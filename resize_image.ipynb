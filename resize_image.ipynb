{
 "cells": [
  {
   "cell_type": "code",
   "execution_count": 1,
   "id": "b84654d1",
   "metadata": {},
   "outputs": [],
   "source": [
    "import cv2"
   ]
  },
  {
   "cell_type": "code",
   "execution_count": 2,
   "id": "dfbc31d2",
   "metadata": {},
   "outputs": [],
   "source": [
    "image = cv2.imread('C:/Users/kalzm/Pictures/training_data/1.png')"
   ]
  },
  {
   "cell_type": "code",
   "execution_count": 3,
   "id": "78ba9556",
   "metadata": {},
   "outputs": [],
   "source": [
    "resized_image = cv2.resize(image, (512, 512))"
   ]
  },
  {
   "cell_type": "code",
   "execution_count": 4,
   "id": "4b68e08b",
   "metadata": {},
   "outputs": [
    {
     "data": {
      "text/plain": [
       "True"
      ]
     },
     "execution_count": 4,
     "metadata": {},
     "output_type": "execute_result"
    }
   ],
   "source": [
    "cv2.imwrite('C:/Users/kalzm/Pictures/resized_training_set/1.png', resized_image)"
   ]
  },
  {
   "cell_type": "code",
   "execution_count": null,
   "id": "072509db",
   "metadata": {},
   "outputs": [],
   "source": []
  }
 ],
 "metadata": {
  "kernelspec": {
   "display_name": "Python 3 (ipykernel)",
   "language": "python",
   "name": "python3"
  },
  "language_info": {
   "codemirror_mode": {
    "name": "ipython",
    "version": 3
   },
   "file_extension": ".py",
   "mimetype": "text/x-python",
   "name": "python",
   "nbconvert_exporter": "python",
   "pygments_lexer": "ipython3",
   "version": "3.11.5"
  }
 },
 "nbformat": 4,
 "nbformat_minor": 5
}
