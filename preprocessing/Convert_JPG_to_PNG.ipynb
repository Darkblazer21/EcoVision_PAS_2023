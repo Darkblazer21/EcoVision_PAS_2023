{
  "nbformat": 4,
  "nbformat_minor": 0,
  "metadata": {
    "colab": {
      "provenance": [],
      "authorship_tag": "ABX9TyPvJxsruVaKVF/RZVD2cwqf",
      "include_colab_link": true
    },
    "kernelspec": {
      "name": "python3",
      "display_name": "Python 3"
    },
    "language_info": {
      "name": "python"
    }
  },
  "cells": [
    {
      "cell_type": "markdown",
      "metadata": {
        "id": "view-in-github",
        "colab_type": "text"
      },
      "source": [
        "<a href=\"https://colab.research.google.com/github/Darkblazer21/EcoVision_PAS_2023/blob/test/preprocessing/Convert_JPG_to_PNG.ipynb\" target=\"_parent\"><img src=\"https://colab.research.google.com/assets/colab-badge.svg\" alt=\"Open In Colab\"/></a>"
      ]
    },
    {
      "cell_type": "code",
      "source": [
        "from google.colab import drive\n",
        "drive.mount('/content/drive')"
      ],
      "metadata": {
        "colab": {
          "base_uri": "https://localhost:8080/"
        },
        "id": "WYMXN52l0jGd",
        "outputId": "f1a6fe10-14f1-4fb2-934c-c08f728de74d"
      },
      "execution_count": null,
      "outputs": [
        {
          "output_type": "stream",
          "name": "stdout",
          "text": [
            "Mounted at /content/drive\n"
          ]
        }
      ]
    },
    {
      "cell_type": "code",
      "execution_count": null,
      "metadata": {
        "id": "Vhxths6c0btV"
      },
      "outputs": [],
      "source": [
        "from PIL import Image\n",
        "import os\n",
        "\n",
        "source_folder = '/content/drive/MyDrive/Notebooks/Dataset/dataset_16_10_2023/data/masks'\n",
        "dest_folder = '/content/drive/MyDrive/Notebooks/Dataset/dataset_16_10_2023/data/n_masks'\n",
        "\n",
        "for filename in os.listdir(source_folder):\n",
        "    if filename.endswith('.jpg'):\n",
        "        img = Image.open(os.path.join(source_folder, filename))\n",
        "        img.save(os.path.join(dest_folder, os.path.splitext(filename)[0] + '.png'))\n"
      ]
    },
    {
      "cell_type": "code",
      "source": [],
      "metadata": {
        "id": "6SA-RVNW1Wte"
      },
      "execution_count": null,
      "outputs": []
    }
  ]
}