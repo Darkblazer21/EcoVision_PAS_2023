{
 "cells": [
  {
   "cell_type": "code",
   "execution_count": 7,
   "id": "072509db",
   "metadata": {},
   "outputs": [],
   "source": [
    "import cv2\n",
    "import numpy as np\n",
    "\n",
    "for i in range(1, 86):\n",
    "    # Chemins d'accès des fichiers d'entrée et de sortie\n",
    "    input_path = f'C:/Users/kalzm/Pictures/training_data/{i}.png'\n",
    "    output_path = f'C:/Users/kalzm/Pictures/resized_training_set/{i}.png'\n",
    "\n",
    "    # Charger l'image\n",
    "    image = cv2.imread(input_path)\n",
    "\n",
    "    # Obtenir les dimensions de l'image d'origine\n",
    "    orig_height, orig_width = image.shape[:2]\n",
    "\n",
    "    # Redimensionner l'image en conservant l'aspect ratio\n",
    "    scale_factor = min(512 / orig_height, 512 / orig_width)\n",
    "    new_width = int(scale_factor * orig_width)\n",
    "    new_height = int(scale_factor * orig_height)\n",
    "    resized_image = cv2.resize(image, (new_width, new_height), interpolation=cv2.INTER_AREA)\n",
    "\n",
    "    # Créer une matrice d'affinité pour conserver l'angle de vue original\n",
    "    M = cv2.getRotationMatrix2D((new_width/2, new_height/2), 0, 1)\n",
    "\n",
    "    # Appliquer la transformation d'affinité pour conserver l'angle de vue\n",
    "    final_image = cv2.warpAffine(resized_image, M, (new_width, new_height))\n",
    "\n",
    "    # Enregistrer l'image redimensionnée avec l'angle de vue original\n",
    "    cv2.imwrite(output_path, final_image)"
   ]
  },
  {
   "cell_type": "code",
   "execution_count": null,
   "id": "c6599add",
   "metadata": {},
   "outputs": [],
   "source": []
  }
 ],
 "metadata": {
  "kernelspec": {
   "display_name": "Python 3 (ipykernel)",
   "language": "python",
   "name": "python3"
  },
  "language_info": {
   "codemirror_mode": {
    "name": "ipython",
    "version": 3
   },
   "file_extension": ".py",
   "mimetype": "text/x-python",
   "name": "python",
   "nbconvert_exporter": "python",
   "pygments_lexer": "ipython3",
   "version": "3.11.5"
  }
 },
 "nbformat": 4,
 "nbformat_minor": 5
}
